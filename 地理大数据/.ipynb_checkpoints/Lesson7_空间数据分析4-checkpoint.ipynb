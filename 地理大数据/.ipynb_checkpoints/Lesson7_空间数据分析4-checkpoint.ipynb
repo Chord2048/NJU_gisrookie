{
 "cells": [
  {
   "cell_type": "markdown",
   "metadata": {},
   "source": [
    "<font color=\"orange\" size=25> <br>Lesson 7 <br><br></font>\n",
    "<font color=\"black\" size=6>1. Introduction to GDAL<br><br></font>\n",
    "<font color=\"black\" size=6>2. Open a raster file with GDAL<br><br>3. Raster image visualization<br><br>4. Working with raster data<br><br>5. Map classification\n",
    " <br><br>\n",
    "</font>"
   ]
  },
  {
   "cell_type": "markdown",
   "metadata": {},
   "source": [
    "<font color=\"orange\" size=6>2. Open a raster file with GDAL<br><br></font>\n",
    "<font color=\"black\" size=4>**Reading one Band**</font>"
   ]
  },
  {
   "cell_type": "code",
   "execution_count": null,
   "metadata": {},
   "outputs": [],
   "source": [
    "#Import GDAL \n",
    "import os \n",
    "from osgeo import gdal \n",
    "import numpy as np\n",
    "os.chdir(r'D:\\M\\地理大数据与云计算\\实验数据\\lesson7\\lesson7_data\\LC08_L1TP_120038_20190913_20190917_01_T1') \n",
    "band1_fn = 'LC08_L1TP_120038_20190913_20190917_01_T1_B2.TIF' \n",
    "\n",
    "#Open the band 1 GeoTIFF \n",
    "in_ds = gdal.Open(band1_fn) \n",
    "#请在此处输入代码"
   ]
  },
  {
   "cell_type": "markdown",
   "metadata": {},
   "source": [
    "<font color=\"black\" size=4>**Composite 3 bands**</font>"
   ]
  },
  {
   "cell_type": "code",
   "execution_count": null,
   "metadata": {},
   "outputs": [],
   "source": [
    "band2_fn = 'LC08_L1TP_120038_20190913_20190917_01_T1_B3.TIF' \n",
    "band3_fn = 'LC08_L1TP_120038_20190913_20190917_01_T1_B4.TIF' \n",
    "\n",
    "#Create a three-band GeoTIFF with same properties as band 1 \n",
    "gtiff_driver = gdal.GetDriverByName('GTiff') \n",
    "out_ds = gtiff_driver.Create('nat_color.tif', \n",
    "    in_band.XSize, in_band.YSize, 3, in_band.DataType) \n",
    "out_ds.SetProjection(in_ds.GetProjection()) \n",
    "out_ds.SetGeoTransform(in_ds.GetGeoTransform()) \n",
    "\n",
    "#Copy pixel data from input band to band 3 of output \n",
    "#请在此处输入代码\n",
    "out_band = out_ds.GetRasterBand(3) \n",
    "out_band.WriteArray(in_data) \n",
    "\n",
    "#Copy pixel data from a dataset instead of a band \n",
    "in_ds = gdal.Open(band2_fn) \n",
    "out_band = out_ds.GetRasterBand(2) \n",
    "out_band.WriteArray(in_ds.ReadAsArray()) \n",
    "out_ds.GetRasterBand(1).WriteArray(gdal.Open(band3_fn).ReadAsArray()) "
   ]
  },
  {
   "cell_type": "markdown",
   "metadata": {},
   "source": [
    "<font color=\"black\" size=4>**Compute statistics and build pyramids**</font>"
   ]
  },
  {
   "cell_type": "code",
   "execution_count": null,
   "metadata": {},
   "outputs": [],
   "source": [
    "#Compute statistics on each output band \n",
    "out_ds.FlushCache() \n",
    "for i in range(1, 4): \n",
    "    out_ds.GetRasterBand(i).ComputeStatistics(False)\n",
    "    \n",
    "#Build over views/pyramid layers \n",
    "out_ds.BuildOverviews('average', [2, 4, 8, 16, 32]) "
   ]
  },
  {
   "cell_type": "markdown",
   "metadata": {},
   "source": [
    "<font color=\"black\" size=4>**Reading partial datasets**</font>"
   ]
  },
  {
   "cell_type": "code",
   "execution_count": null,
   "metadata": {},
   "outputs": [],
   "source": [
    "data = np.array(in_band.ReadAsArray(1400, 6000, 6, 3))"
   ]
  },
  {
   "cell_type": "markdown",
   "metadata": {},
   "source": [
    "<font color=\"black\" size=4>**Convert data type**</font>"
   ]
  },
  {
   "cell_type": "code",
   "execution_count": null,
   "metadata": {},
   "outputs": [],
   "source": [
    "data = np.array(in_band.ReadAsArray(1400, 6000, 6, 3)).astype(float) "
   ]
  },
  {
   "cell_type": "markdown",
   "metadata": {},
   "source": [
    "<font color=\"black\" size=4>**Read raster file properties**</font>"
   ]
  },
  {
   "cell_type": "code",
   "execution_count": null,
   "metadata": {},
   "outputs": [],
   "source": [
    "# Check type of the variable 'raster' \n",
    "print(type(out_ds))\n",
    "\n",
    "# Projection \n",
    "print(out_ds.GetProjection()) \n",
    "\n",
    "# Dimensions \n",
    "print(out_ds.RasterXSize) \n",
    "print(out_ds.RasterYSize) \n",
    "\n",
    "# Number of bands \n",
    "print(out_ds.RasterCount) \n",
    "\n",
    "# Metadata for the raster dataset \n",
    "print(out_ds.GetMetadata()) "
   ]
  },
  {
   "cell_type": "markdown",
   "metadata": {},
   "source": [
    "<font color=\"black\" size=4>**Get raster bands**</font>"
   ]
  },
  {
   "cell_type": "code",
   "execution_count": null,
   "metadata": {},
   "outputs": [],
   "source": [
    "# Read the raster band as separate variable \n",
    "band = out_ds.GetRasterBand(1) \n",
    "\n",
    "# Check type of the variable 'band' \n",
    "type(band) \n",
    "\n",
    "# Data type of the values \n",
    "gdal.GetDataTypeName(band.DataType) "
   ]
  },
  {
   "cell_type": "markdown",
   "metadata": {},
   "source": [
    "<font color=\"black\" size=4>**Band statistics**</font>"
   ]
  },
  {
   "cell_type": "code",
   "execution_count": null,
   "metadata": {},
   "outputs": [],
   "source": [
    "# Compute statistics if needed \n",
    "if band.GetMinimum() is None or band.GetMaximum()is None: \n",
    "    band.ComputeStatistics(0) \n",
    "print(\"Statistics computed.\") \n",
    "\n",
    "# Fetch metadata for the band \n",
    "band.GetMetadata() \n",
    "\n",
    "# Print only selected metadata: \n",
    "print (\"[ NO DATA VALUE ] = \", band.GetNoDataValue()) # none \n",
    "print (\"[ MIN ] = \", band.GetMinimum()) \n",
    "print (\"[ MAX ] = \", band.GetMaximum()) "
   ]
  },
  {
   "cell_type": "markdown",
   "metadata": {},
   "source": [
    "<font color=\"orange\" size=6>3. Raster image visualization<br><br></font>\n",
    "<font color=\"black\" size=4>**Plot a raster band**</font>"
   ]
  },
  {
   "cell_type": "code",
   "execution_count": null,
   "metadata": {},
   "outputs": [],
   "source": [
    "import matplotlib.pyplot as plt \n",
    "\n",
    "fig, ((ax0, ax1,ax2)) = plt.subplots(1, 3, figsize=(30, 10)) \n",
    "red = out_ds.GetRasterBand(3).ReadAsArray() \n",
    "green = out_ds.GetRasterBand(2).ReadAsArray() \n",
    "blue = out_ds.GetRasterBand(1).ReadAsArray() \n",
    "#请在此处输入代码\n",
    "ax0.set_title('Red',fontsize =25) \n",
    "ax1.imshow(green) \n",
    "ax1.set_title('Green',fontsize =25) \n",
    "ax2.imshow(blue,cmap='gray') \n",
    "ax2.set_title('Blue (cmap=gray)',fontsize =25) \n",
    "plt.show() "
   ]
  },
  {
   "cell_type": "markdown",
   "metadata": {},
   "source": [
    "<font color=\"black\" size=4>**Plot 3 raster bands**</font>"
   ]
  },
  {
   "cell_type": "code",
   "execution_count": null,
   "metadata": {},
   "outputs": [],
   "source": [
    "import numpy as np\n",
    "\n",
    "data = np.dstack((red, green, blue)) \n",
    "plt.imshow(data) "
   ]
  },
  {
   "cell_type": "code",
   "execution_count": null,
   "metadata": {},
   "outputs": [],
   "source": [
    "def stretch_data(data, num_stddev): \n",
    "    \"\"\"Returns the data with a standard deviation stretch applied. \n",
    "    data - array containing data to stretch \n",
    "    num_stddev - number of standard deviations to use \"\"\" \n",
    "    mean = np.mean(data) \n",
    "    std_range = np.std(data) * 2 \n",
    "    new_min = max(mean - std_range, np.min(data)) \n",
    "    new_max = min(mean + std_range, np.max(data)) \n",
    "    clipped_data = np.clip(data, new_min, new_max) \n",
    "    return clipped_data / (new_max - new_min) \n",
    "\n",
    "red_data = stretch_data(red,2) \n",
    "green_data = stretch_data(green,2) \n",
    "blue_data = stretch_data(blue,2) \n",
    "alpha = np.where(red_data + green_data + blue_data > 0, 1, 0) \n",
    "data = np.dstack((red_data, green_data, blue_data,alpha)) \n",
    "plt.imshow(data) "
   ]
  },
  {
   "cell_type": "markdown",
   "metadata": {},
   "source": [
    "<font color=\"black\" size=4>**Plotting 3D data**</font>"
   ]
  },
  {
   "cell_type": "code",
   "execution_count": null,
   "metadata": {},
   "outputs": [],
   "source": [
    "import numpy as np \n",
    "import matplotlib.pyplot as plt \n",
    "from mpl_toolkits.mplot3d import Axes3D \n",
    "from osgeo import gdal \n",
    "\n",
    "ds = gdal.Open(r'D:\\M\\地理大数据与云计算\\实验数据\\lesson7\\lesson7_data\\DEM.tif') \n",
    "ov_band = ds.GetRasterBand(1) \n",
    "data = ov_band.ReadAsArray() \n",
    "\n",
    "# Calculate bounding coordinates. \n",
    "#请在此处输入代码 \n",
    "minx = geotransform[0] \n",
    "maxy = geotransform[3] \n",
    "maxx = minx + ov_band.XSize * geotransform[1] \n",
    "miny = maxy + ov_band.YSize * geotransform[5] \n",
    "\n",
    "# Get the x and y arrays. \n",
    "x = np.arange(minx, maxx, geotransform[1]) \n",
    "y = np.arange(maxy, miny, geotransform[5]) \n",
    "x, y = np.meshgrid(x[:ov_band.XSize], y[:ov_band.YSize]) \n",
    "\n",
    "# Make the 3D plot. \n",
    "fig = plt.figure(figsize=(20, 10)) \n",
    "ax = fig.gca(projection='3d') \n",
    "ax.plot_surface(x, y, data, cmap='gist_earth', lw=0) \n",
    "plt.show() "
   ]
  },
  {
   "cell_type": "markdown",
   "metadata": {},
   "source": [
    "<font color=\"orange\" size=6> 4. Working with raster data<br><br></font>\n",
    "<font color=\"orange\" size=5>**Histograms**</font>"
   ]
  },
  {
   "cell_type": "markdown",
   "metadata": {},
   "source": [
    "<font color=\"black\" size=4>**This code snippet shows the difference between approximate and exact values, using the classified elevation raster that we looked at earlier:**</font>"
   ]
  },
  {
   "cell_type": "code",
   "execution_count": null,
   "metadata": {},
   "outputs": [],
   "source": [
    "import numpy as np \n",
    "import matplotlib.pyplot as plt \n",
    "green = out_ds.GetRasterBand(2) \n",
    "hist = green.GetHistogram(0, 49868, 256, approx_ok=False) \n",
    "n_bins = np.linspace(256, 49868, 100) \n",
    "plt.hist(hist,n_bins) "
   ]
  },
  {
   "cell_type": "markdown",
   "metadata": {},
   "source": [
    "<font color=\"black\" size=4>**Reprojecting images**</font>"
   ]
  },
  {
   "cell_type": "code",
   "execution_count": null,
   "metadata": {},
   "outputs": [],
   "source": [
    "from osgeo import gdal, osr \n",
    "fig, ((ax0, ax1)) = plt.subplots(1, 2, figsize=(20, 10)) \n",
    "\n",
    "#Reprojecting images\n",
    "input_path = r'D:\\M\\地理大数据与云计算\\实验数据\\lesson7\\lesson7_data\\LC08_L1TP_120038_20190913_20190917_01_T1\\LC08_L1TP_120038_20190913_20190917_01_T1_B2.TIF' \n",
    "old_ds = gdal.Open(input_path, gdal.GA_ReadOnly)\n",
    "srs = osr.SpatialReference() \n",
    "srs.SetWellKnownGeogCS('WGS84')\n",
    "vrt_ds = gdal.AutoCreateWarpedVRT(old_ds, None, srs.ExportToWkt(),gdal.GRA_Bilinear) \n",
    "gdal.GetDriverByName('gtiff').CreateCopy('nat_color_wgs84.tif', vrt_ds) \n",
    "\n",
    "#plot \n",
    "old_ds_array = old_ds.ReadAsArray() \n",
    "vrt_ds_array = vrt_ds.ReadAsArray() \n",
    "ax0.imshow(old_ds_array) \n",
    "ax0.set_title('WGS_1984_UTM_Zone_50N',fontsize =25) \n",
    "ax1.imshow(vrt_ds_array) \n",
    "ax1.set_title('EPSG:4326 (WGS84)',fontsize =25) \n",
    "plt.show() "
   ]
  },
  {
   "cell_type": "markdown",
   "metadata": {},
   "source": [
    "<font color=\"black\" size=4>**Clip raster by bounding box**</font>"
   ]
  },
  {
   "cell_type": "code",
   "execution_count": null,
   "metadata": {},
   "outputs": [],
   "source": [
    "from osgeo import ogr, gdal \n",
    "InputImage = r'D:\\M\\地理大数据与云计算\\实验数据\\lesson7\\lesson7_data\\LC08_L1TP_120038_20190913_20190917_01_T1\\LC08_L1TP_120038_20190913_20190917_01_T1_B3.TIF' \n",
    "Shapefile = r'D:\\M\\地理大数据与云计算\\实验数据\\lesson7\\lesson7_data\\nanjing.shp' \n",
    "RasterFormat = 'GTiff'\n",
    "PixelRes = 30 \n",
    "VectorFormat = 'ESRI Shapefile'\n",
    "\n",
    "Raster = gdal.Open(InputImage, gdal.GA_ReadOnly) \n",
    "Projection = Raster.GetProjectionRef() \n",
    "\n",
    "VectorDriver = ogr.GetDriverByName(VectorFormat) \n",
    "VectorDataset = VectorDriver.Open(Shapefile, 0) # 0=Read-only, 1=Read-Write \n",
    "\n",
    "layer = VectorDataset.GetLayer() \n",
    "FeatureCount = layer.GetFeatureCount() \n",
    "print(\"Feature Count:\",FeatureCount) "
   ]
  },
  {
   "cell_type": "code",
   "execution_count": null,
   "metadata": {},
   "outputs": [],
   "source": [
    "# Iterate through the shapefile features \n",
    "Count = 0\n",
    "for feature in layer: \n",
    "    Count += 1 \n",
    "    print(\"Processing feature \"+str(Count)+\" of \"+str(FeatureCount)+\"...\") \n",
    "    \n",
    "    # Get bounding box of the shapefile feature \n",
    "    geom = feature.GetGeometryRef() \n",
    "    minX, maxX, minY, maxY = geom.GetEnvelope() \n",
    "    \n",
    "    # Create raster \n",
    "    OutTileName = str(Count)+'.SomeTileName.tif'\n",
    "    OutTile = gdal.Warp(OutTileName, Raster, format=RasterFormat, outputBounds=[minX,    \n",
    "                                      minY, maxX, maxY], xRes=PixelRes, yRes=PixelRes,  \n",
    "                                      dstSRS=Projection, resampleAlg=gdal.GRA_NearestNeighbour, \n",
    "                                      options=['COMPRESS=DEFLATE']) \n",
    "print(\"Done.\") \n",
    "plt.figure(figsize=(20, 10)) \n",
    "OutTile_array = OutTile.ReadAsArray() \n",
    "plt.imshow(OutTile_array) \n",
    "plt.show() "
   ]
  },
  {
   "cell_type": "markdown",
   "metadata": {},
   "source": [
    "<font color=\"black\" size=4>**Mosaic multiple images together**</font>"
   ]
  },
  {
   "cell_type": "code",
   "execution_count": null,
   "metadata": {},
   "outputs": [],
   "source": [
    "import glob \n",
    "import math \n",
    "import os \n",
    "from osgeo import gdal, osr \n",
    "\n",
    "# The get_extent function from the text is in ch10funcs.py. \n",
    "def get_extent(fn): \n",
    "   #Returns min_x, max_y, max_x, min_y\n",
    "   ds = gdal.Open(fn) \n",
    "   gt = ds.GetGeoTransform() \n",
    "   return (gt[0], gt[3], gt[0] + gt[1] * ds.RasterXSize, \n",
    "\t  gt[3] + gt[5] * ds.RasterYSize) \n",
    "\n",
    "# Don't forget to change the directory. \n",
    "os.chdir(r'D:\\M\\地理大数据与云计算\\实验数据\\lesson7\\lesson7_data\\Massachusetts') \n",
    "\n",
    "#Get the list of tiffs that start with O. \n",
    "in_files = glob.glob('O*.tif') "
   ]
  },
  {
   "cell_type": "code",
   "execution_count": null,
   "metadata": {},
   "outputs": [],
   "source": [
    "# Loop through all of the files and get the bounding coordinates for the\n",
    "# whole batch. This will be the output extent.\n",
    "min_x, max_y, max_x, min_y = get_extent(in_files[0])\n",
    "for fn in in_files[1:]:\n",
    "    minx, maxy, maxx, miny = get_extent(fn)\n",
    "    min_x = min(min_x, minx)\n",
    "    max_y = max(max_y, maxy)\n",
    "    max_x = max(max_x, maxx)\n",
    "    min_y = min(min_y, miny)\n",
    "\n",
    "# Calculate the dimensions for the output based on the output extent.\n",
    "in_ds = gdal.Open(in_files[0])\n",
    "gt = in_ds.GetGeoTransform()\n",
    "rows = math.ceil((max_y - min_y) / -gt[5])\n",
    "columns = math.ceil((max_x - min_x) / gt[1])\n",
    "\n",
    "# Create the output dataset.\n",
    "driver = gdal.GetDriverByName('gtiff')\n",
    "out_ds = driver.Create('mosaic2.tif', columns, rows)\n",
    "out_ds.SetProjection(in_ds.GetProjection())\n",
    "out_band = out_ds.GetRasterBand(1)"
   ]
  },
  {
   "cell_type": "code",
   "execution_count": null,
   "metadata": {},
   "outputs": [],
   "source": [
    "# Change the upper left coordinates in the geotransform and add it to the\n",
    "# output image.\n",
    "gt = list(in_ds.GetGeoTransform())\n",
    "gt[0], gt[3] = min_x, max_y\n",
    "out_ds.SetGeoTransform(gt)\n",
    "\n",
    "# Loop through the input files.\n",
    "for fn in in_files:\n",
    "    in_ds = gdal.Open(fn)\n",
    "\n",
    "    # Create a transformer between this input image and the output mosaic\n",
    "    # and then use it to calculate the offsets for this raster in the\n",
    "    # mosaic.\n",
    "    \n",
    "    #请在此处输入代码\n",
    "    success, xyz = trans.TransformPoint(False, 0, 0)\n",
    "    x, y, z = map(int, xyz)\n",
    "\n",
    "    # Copy the data.\n",
    "    data = in_ds.GetRasterBand(1).ReadAsArray()\n",
    "    out_band.WriteArray(data, x, y)\n",
    "\n",
    "plt.figure(figsize=(10, 10))\n",
    "OutTile_array = out_band.ReadAsArray()\n",
    "plt.imshow(OutTile_array)\n",
    "plt.show()"
   ]
  },
  {
   "cell_type": "markdown",
   "metadata": {},
   "source": [
    "<font color=\"orange\" size=6><br>4. Map algebra<br><br></font>\n",
    "<font color=\"black\" size=4>**Local analysis**</font>"
   ]
  },
  {
   "cell_type": "code",
   "execution_count": null,
   "metadata": {},
   "outputs": [],
   "source": [
    "def make_raster(in_ds, fn, data, data_type, nodata=None): \n",
    "    \"\"\"Create a one-band GeoTIFF. in_ds - datasource to copy projection and  \n",
    "    geotransform from fn - path to the file to create data - NumPy array containing data   \n",
    "    to write data_type - output data type nodata - optional NoData value \"\"\" \n",
    "    #请在此处输入代码\n",
    "    out_ds = driver.Create( fn, in_ds.RasterXSize, in_ds.RasterYSize, 1, data_type) \n",
    "    out_ds.SetProjection(in_ds.GetProjection()) \n",
    "    out_ds.SetGeoTransform(in_ds.GetGeoTransform()) \n",
    "    out_band = out_ds.GetRasterBand(1) \n",
    "    if nodata is not None: \n",
    "        out_band.SetNoDataValue(nodata) \n",
    "        out_band.WriteArray(data) \n",
    "        out_band.FlushCache() \n",
    "        out_band.ComputeStatistics(False) \n",
    "    return out_ds "
   ]
  },
  {
   "cell_type": "code",
   "execution_count": null,
   "metadata": {},
   "outputs": [],
   "source": [
    "def compute_overview_levels(band): \n",
    "    \"\"\"Return an appropriate list of overview levels.\"\"\" \n",
    "    max_dim = max(band.XSize, band.YSize) \n",
    "    overviews = [] \n",
    "    level = 1 \n",
    "    while max_dim > 256: \n",
    "        level *= 2 \n",
    "        overviews.append(level) \n",
    "        max_dim /= 2 \n",
    "    return overviews "
   ]
  },
  {
   "cell_type": "code",
   "execution_count": null,
   "metadata": {},
   "outputs": [],
   "source": [
    "import os \n",
    "import numpy as np \n",
    "from osgeo import gdal \n",
    "import matplotlib.pyplot as plt\n",
    "\n",
    "os.chdir(r'D:\\M\\地理大数据与云计算\\实验数据\\lesson7\\lesson7_data\\LC08_L1TP_120038_20190913_20190917_01_T1') \n",
    "band_green_fn = 'LC08_L1TP_120038_20190913_20190917_01_T1_B2.TIF' \n",
    "in_ds_green = gdal.Open(band_green_fn) \n",
    "band_nir_fn = 'LC08_L1TP_120038_20190913_20190917_01_T1_B5.TIF'\n",
    "in_ds_nir = gdal.Open(band_nir_fn) \n",
    "out_fn = r'D:\\M\\地理大数据与云计算\\实验数据\\lesson7\\lesson7_data\\ndwi.tif' \n",
    "green = in_ds_green.GetRasterBand(1).ReadAsArray().astype(np.float) \n",
    "nir = in_ds_nir.GetRasterBand(1).ReadAsArray() \n",
    "#Mask the green band \n",
    "green = np.ma.masked_where(nir + green == 0, green) \n",
    "#Calculate NDWI \n",
    "#请在此处输入代码\n",
    "#Fill the empty cells \n",
    "ndwi = ndwi.filled(-99) \n",
    "out_ds = make_raster(in_ds_green, out_fn, ndwi, gdal.GDT_Float32, -99) \n",
    "overviews = compute_overview_levels(out_ds.GetRasterBand(1)) \n",
    "out_ds.BuildOverviews('average', overviews) \n"
   ]
  },
  {
   "cell_type": "code",
   "execution_count": null,
   "metadata": {},
   "outputs": [],
   "source": [
    "plt.imshow(ndwi,cmap='Greys',vmin=-1, vmax=1) \n",
    "plt.colorbar() \n",
    "plt.show() "
   ]
  },
  {
   "cell_type": "markdown",
   "metadata": {},
   "source": [
    "<font color=\"black\" size=4>**Focal analyses – make slices**</font>"
   ]
  },
  {
   "cell_type": "code",
   "execution_count": null,
   "metadata": {},
   "outputs": [],
   "source": [
    "def make_slices(data, win_size): \n",
    "    \"\"\"Return a list of slices given a window size. \n",
    "    data - two-dimensional array to get slices from win_size \n",
    "    - tuple of (rows, columns) for the moving window \"\"\" \n",
    "    rows = data.shape[0] - win_size[0] + 1 \n",
    "    cols = data.shape[1] - win_size[1] + 1 \n",
    "    slices = [] \n",
    "    for i in range(win_size[0]): \n",
    "        for j in range(win_size[1]): \n",
    "            slices.append(data[i:rows+i, j:cols+j]) \n",
    "    return slices "
   ]
  },
  {
   "cell_type": "markdown",
   "metadata": {},
   "source": [
    "<font color=\"black\" size=4>**Focal analyses – smooth an elevation dataset**</font>"
   ]
  },
  {
   "cell_type": "code",
   "execution_count": null,
   "metadata": {},
   "outputs": [],
   "source": [
    "import os \n",
    "import numpy as np \n",
    "from osgeo import gdal \n",
    "import matplotlib.pyplot as plt \n",
    "in_fn = r'D:\\M\\地理大数据与云计算\\实验数据\\lesson7\\lesson7_data\\DEM.tif' \n",
    "out_fn = r'D:\\M\\地理大数据与云计算\\实验数据\\lesson7\\lesson7_data\\smooth_DEM.tif'\n",
    "in_ds = gdal.Open(in_fn) \n",
    "in_band = in_ds.GetRasterBand(1) \n",
    "in_data = in_band.ReadAsArray() \n",
    "slices = make_slices(in_data, (3, 3)) \n",
    "stacked_data = np.ma.dstack(slices) \n",
    "rows, cols = in_band.YSize, in_band.XSize \n",
    "out_data = np.ones((rows, cols), np.float32) * -99 \n",
    "out_data[1:-1, 1:-1] = np.mean(stacked_data, 2)\n",
    "OutTile = make_raster(in_ds, out_fn, out_data, gdal.GDT_Float32, -99) \n",
    "fig, ((ax0, ax1)) = plt.subplots(1, 2, figsize=(20, 10)) \n",
    "ax0.imshow(in_data) \n",
    "ax0.set_title('Raw DEM',fontsize =25) \n",
    "\n",
    "OutTile_array = OutTile.ReadAsArray() \n",
    "\n",
    "ax1.imshow(OutTile_array) \n",
    "ax1.set_title('Smoothing (mean)',fontsize =25) \n",
    "plt.show() "
   ]
  },
  {
   "cell_type": "markdown",
   "metadata": {},
   "source": [
    "<font color=\"black\" size=4>**Focal analyses – calculate slope**</font>"
   ]
  },
  {
   "cell_type": "code",
   "execution_count": null,
   "metadata": {},
   "outputs": [],
   "source": [
    "import os \n",
    "import numpy as np \n",
    "from osgeo import gdal \n",
    "in_fn = r\"D:\\M\\地理大数据与云计算\\实验数据\\lesson7\\lesson7_data\\DEM.tif\" \n",
    "out_fn = r\"D:\\M\\地理大数据与云计算\\实验数据\\lesson7\\lesson7_data\\slope.tif\" \n",
    "\n",
    "in_ds = gdal.Open(in_fn) \n",
    "cell_width = in_ds.GetGeoTransform()[1] \n",
    "cell_height = in_ds.GetGeoTransform()[5] \n",
    "band = in_ds.GetRasterBand(1) \n",
    "in_data = band.ReadAsArray().astype(np.float) \n",
    "\n",
    "#Initialize output array with -99 \n",
    "out_data = np.ones((band.YSize, band.XSize)) * -99 \n",
    "\n",
    "slices = make_slices(in_data, (3, 3)) \n",
    "rise = ((slices[6] + (2 * slices[7]) + slices[8]) - (slices[0] + (2 * slices[1]) + slices[2])) /(8 * cell_height) \n",
    "run = ((slices[2] + (2 * slices[5]) + slices[8]) - (slices[0] + (2 * slices[3]) + slices[6])) /(8 * cell_width) \n",
    "dist = np.sqrt(np.square(rise) + np.square(run)) \n",
    "\n",
    "#Output edges don’t get slope data \n",
    "out_data[1:-1, 1:-1] = np.arctan(dist) * 180 / np.pi \n",
    "OutTile = make_raster(in_ds, out_fn, out_data, gdal.GDT_Float32, -99) \n",
    "plt.figure(figsize=(10, 10)) \n",
    "OutTile_array = OutTile.ReadAsArray() \n",
    "im=plt.imshow(OutTile_array,vmin=0, vmax=50) \n",
    "plt.colorbar(im) \n",
    "plt.show() \n"
   ]
  },
  {
   "cell_type": "markdown",
   "metadata": {},
   "source": [
    "<font color=\"black\" size=4>**Zonal analyses**</font>"
   ]
  },
  {
   "cell_type": "code",
   "execution_count": null,
   "metadata": {},
   "outputs": [],
   "source": [
    "import numpy as np \n",
    "import scipy.stats \n",
    "from osgeo import gdal \n",
    "\n",
    "def get_bins(data): \n",
    "    \"\"\"Return bin edges for all unique values in data.\"\"\" \n",
    "    bins = np.unique(data) \n",
    "    return np.append(bins, max(bins) + 1) \n",
    "\n",
    "landcover_fn = r'D:\\M\\地理大数据与云计算\\实验数据\\lesson7\\lesson7_data\\Utah\\landcover60.tif' \n",
    "ecoregion_fn = r'D:\\M\\地理大数据与云计算\\实验数据\\lesson7\\lesson7_data\\Utah\\utah_ecoIII60.tif' \n",
    "out_fn = r'D:\\M\\地理大数据与云计算\\实验数据\\lesson7\\lesson7_data\\Utah\\histogram.csv'\n",
    "eco_ds = gdal.Open(ecoregion_fn) \n",
    "eco_band = eco_ds.GetRasterBand(1) \n",
    "eco_data = eco_band.ReadAsArray().flatten() \n",
    "eco_bins = get_bins(eco_data) "
   ]
  },
  {
   "cell_type": "code",
   "execution_count": null,
   "metadata": {},
   "outputs": [],
   "source": [
    "lc_ds = gdal.Open(landcover_fn) \n",
    "lc_band = lc_ds.GetRasterBand(1) \n",
    "lc_data = lc_band.ReadAsArray().flatten() \n",
    "lc_bins = get_bins(lc_data) \n",
    "\n",
    "#Compute histogram \n",
    "hist, eco_bins2, lc_bins2, bn = scipy.stats.binned_statistic_2d( eco_data, lc_data, \n",
    "    lc_data, 'count', [eco_bins, lc_bins]) \n",
    "#Add bin info to histogram \n",
    "hist = np.insert(hist, 0, lc_bins[:-1], 0) \n",
    "row_labels = np.insert(eco_bins[:-1], 0, 0) \n",
    "hist = np.insert(hist, 0, row_labels, 1) \n",
    "\n",
    "#Save output \n",
    "np.savetxt(out_fn, hist, fmt='%1.0f', delimiter=',') "
   ]
  },
  {
   "cell_type": "code",
   "execution_count": null,
   "metadata": {},
   "outputs": [],
   "source": [
    "import pandas as pd \n",
    "dataFrame = pd.read_csv(r'D:\\M\\地理大数据与云计算\\实验数据\\lesson7\\lesson7_data\\Utah\\histogram.csv') \n",
    "dataFrame \n"
   ]
  },
  {
   "cell_type": "markdown",
   "metadata": {},
   "source": [
    "<font color=\"black\" size=4>**Global analyses**<br><br></font>\n",
    "<font color=\"black\" size=4>**Let’s calculate average distance to roads within a wilderness area**</font>"
   ]
  },
  {
   "cell_type": "code",
   "execution_count": null,
   "metadata": {},
   "outputs": [],
   "source": [
    "import os \n",
    "import sys \n",
    "from osgeo import gdal, ogr \n",
    "folder = r'D:\\M\\地理大数据与云计算\\实验数据\\lesson7\\lesson7_data\\Idaho' \n",
    "roads_ln = 'allroads'\n",
    "wilderness_ln = 'wilderness'\n",
    "road_raster_fn = 'church_roads.tif'\n",
    "proximity_fn = 'proximity.tif'\n",
    "#Set the cell size for the analysis \n",
    "cellsize = 10 \n",
    "#Get extent of wilderness area \n",
    "shp_ds = ogr.Open(folder) \n",
    "wild_lyr = shp_ds.GetLayerByName(wilderness_ln) \n",
    "wild_lyr.SetAttributeFilter( \"WILD_NM = 'Frank Church - RONR' \") \n",
    "envelopes = [row.geometry().GetEnvelope() for row in wild_lyr] \n",
    "coords = list(zip(*envelopes)) \n",
    "minx, maxx = min(coords[0]), max(coords[1]) \n",
    "miny, maxy = min(coords[2]), max(coords[3]) \n",
    "#Select roads in wilderness extent \n",
    "road_lyr = shp_ds.GetLayerByName(roads_ln) \n",
    "road_lyr.SetSpatialFilterRect(minx, miny, maxx, maxy) "
   ]
  },
  {
   "cell_type": "code",
   "execution_count": null,
   "metadata": {},
   "outputs": [],
   "source": [
    "os.chdir(folder) \n",
    "tif_driver = gdal.GetDriverByName('GTiff') \n",
    "cols = int((maxx - minx) / cellsize) \n",
    "rows = int((maxy - miny) / cellsize) \n",
    "#Create empty raster for roads \n",
    "road_ds = tif_driver.Create(road_raster_fn, cols, rows) \n",
    "road_ds.SetProjection( road_lyr.GetSpatialRef().ExportToWkt()) \n",
    "road_ds.SetGeoTransform( (minx, cellsize, 0, maxy, 0, -cellsize)) \n",
    "\n",
    "def progress_callback(complete, message, unknown): \n",
    "    return 1 \n",
    "\n",
    "#Burn roads into raster \n",
    "gdal.RasterizeLayer( road_ds, [1], road_lyr, burn_values=[1], \n",
    "                                  callback=progress_callback ) \n",
    "\n",
    "#Burn proximity data into new raster \n",
    "prox_ds = tif_driver.Create( proximity_fn, cols, rows, 1, gdal.GDT_Int32) \n",
    "prox_ds.SetProjection(road_ds.GetProjection()) \n",
    "prox_ds.SetGeoTransform(road_ds.GetGeoTransform()) \n",
    "gdal.ComputeProximity( road_ds.GetRasterBand(1), prox_ds.GetRasterBand(1), \n",
    "                                       ['DISTUNITS=GEO'], progress_callback) \n"
   ]
  },
  {
   "cell_type": "code",
   "execution_count": null,
   "metadata": {},
   "outputs": [],
   "source": [
    "#Burn wilderness into temporary raster \n",
    "wild_ds = gdal.GetDriverByName('MEM').Create( 'tmp', cols, rows) \n",
    "wild_ds.SetProjection(prox_ds.GetProjection()) \n",
    "wild_ds.SetGeoTransform(prox_ds.GetGeoTransform()) \n",
    "gdal.RasterizeLayer(wild_ds, [1], wild_lyr, burn_values=[1],callback=progress_callback) \n",
    "\n",
    "#Set NoData outside wilderness \n",
    "wild_data = wild_ds.ReadAsArray() \n",
    "prox_data = prox_ds.ReadAsArray() \n",
    "prox_data[wild_data == 0] = -99 \n",
    "prox_ds.GetRasterBand(1).WriteArray(prox_data) \n",
    "prox_ds.GetRasterBand(1).SetNoDataValue(-99) \n",
    "prox_ds.FlushCache() \n",
    "\n",
    "stats = prox_ds.GetRasterBand(1).ComputeStatistics( False, progress_callback)\n",
    "print('Mean distance from roads is', stats[2]) "
   ]
  },
  {
   "cell_type": "markdown",
   "metadata": {},
   "source": [
    "<font color=\"orange\" size=6><br> 5. Map classification<br><br></font>\n",
    "<font color=\"black\" size=4>**K-means clustering**</font>"
   ]
  },
  {
   "cell_type": "code",
   "execution_count": null,
   "metadata": {},
   "outputs": [],
   "source": [
    "import os \n",
    "import numpy as np \n",
    "import spectral \n",
    "from osgeo import gdal \n",
    "import matplotlib.pyplot as plt \n",
    "def stack_bands(filenames): \n",
    "    \"\"\"Returns a 3D array containing all band data from all files.\"\"\" \n",
    "    bands = [] \n",
    "    for fn in filenames: \n",
    "        ds = gdal.Open(fn) \n",
    "        for i in range(1, ds.RasterCount + 1): \n",
    "            bands.append(ds.GetRasterBand(i).ReadAsArray()) \n",
    "    return np.dstack(bands) \n",
    "\n",
    "folder = r'D:\\M\\地理大数据与云计算\\实验数据\\lesson7\\lesson7_data\\Utah'\n",
    "raster_fns = ['LE70380322000181EDC02_60m.tif', 'LE70380322000181EDC02_TIR_60m.tif'] \n",
    "out_fn = r'D:\\M\\地理大数据与云计算\\实验数据\\lesson7\\lesson7_data\\Utah\\kmeans_prediction_60m.tif' \n",
    "os.chdir(folder) "
   ]
  },
  {
   "cell_type": "code",
   "execution_count": null,
   "metadata": {},
   "outputs": [],
   "source": [
    "#Run the model \n",
    "data = stack_bands(raster_fns) \n",
    "#请在此处输入代码\n",
    "\n",
    "ds = gdal.Open(raster_fns[0]) \n",
    "out_ds = make_raster(ds, out_fn, classes, gdal.GDT_Byte) \n",
    "levels = compute_overview_levels(out_ds.GetRasterBand(1)) \n",
    "out_ds.BuildOverviews('NEAREST', levels) \n",
    "out_ds.FlushCache()\n",
    "out_ds.GetRasterBand(1).ComputeStatistics(False) \n",
    "\n",
    "fig, ((ax0, ax1)) = plt.subplots(1, 2, figsize=(20, 10)) \n",
    "ax0.imshow(data) \n",
    "ax0.set_title('Raw Image',fontsize =25) \n",
    "ax1.imshow(classes) \n",
    "ax1.set_title('K-means classification',fontsize =25) \n",
    "plt.show() "
   ]
  },
  {
   "cell_type": "markdown",
   "metadata": {},
   "source": [
    "<font color=\"black\" size=4>**Supervised classification using CART**</font>"
   ]
  },
  {
   "cell_type": "code",
   "execution_count": null,
   "metadata": {},
   "outputs": [],
   "source": [
    "import csv \n",
    "import os \n",
    "import numpy as np \n",
    "from sklearn import tree \n",
    "from osgeo import gdal \n",
    "\n",
    "folder = r'D:\\M\\地理大数据与云计算\\实验数据\\lesson7\\lesson7_data\\Utah' \n",
    "raster_fns = ['LE70380322000181EDC02_60m.tif', 'LE70380322000181EDC02_TIR_60m.tif'] \n",
    "out_fn = 'tree_prediction60.tif' \n",
    "train_fn = r'D:\\M\\地理大数据与云计算\\实验数据\\lesson7\\lesson7_data\\Utah\\training_data.csv' \n",
    "gap_fn = r'D:\\M\\地理大数据与云计算\\实验数据\\lesson7\\lesson7_data\\Utah\\landcover60.tif' \n",
    "\n",
    "os.chdir(folder) "
   ]
  },
  {
   "cell_type": "code",
   "execution_count": null,
   "metadata": {},
   "outputs": [],
   "source": [
    "# Read the coordinates and actual classification from the csv.\n",
    "# This is the training data.\n",
    "xys = []\n",
    "classes = []\n",
    "with open(train_fn) as fp:\n",
    "    reader = csv.reader(fp)\n",
    "    next(reader)\n",
    "    for row in reader:\n",
    "        xys.append([float(n) for n in row[:2]])\n",
    "        classes.append(int(row[2]))\n",
    "\n",
    "# Calculate the pixel offsets for the coordinates obtained from the csv.\n",
    "ds = gdal.Open(raster_fns[0])\n",
    "pixel_trans = gdal.Transformer(ds, None, [])\n",
    "offset, ok = pixel_trans.TransformPoints(True, xys)\n",
    "cols, rows, z = zip(*offset)\n",
    "\n",
    "# Get the satellite data. \n",
    "data = stack_bands(raster_fns) \n",
    "rows=np.array(rows,dtype=np.int32) \n",
    "cols=np.array(cols,dtype=np.int32) "
   ]
  },
  {
   "cell_type": "code",
   "execution_count": null,
   "metadata": {},
   "outputs": [],
   "source": [
    "# Sample the satellite data at the coordinates from the csv. \n",
    "sample = data[rows, cols, :] \n",
    "\n",
    "# Fit the classification tree. \n",
    "clf = tree.DecisionTreeClassifier(max_depth=5) \n",
    "clf = clf.fit(sample, classes) \n",
    "\n",
    "# Apply the new classification tree model to the satellite data. \n",
    "rows, cols, bands = data.shape \n",
    "data2d = np.reshape(data, (rows * cols, bands)) \n",
    "#请在此处输入代码 \n",
    "prediction = np.reshape(prediction, (rows, cols)) \n",
    "\n",
    "# Set the pixels with no valid satellite data to 0. \n",
    "prediction[np.sum(data, 2) == 0] = 0 \n",
    "\n",
    "# Save the output. \n",
    "predict_ds = make_raster(ds, out_fn, prediction, gdal.GDT_Byte, 0) \n",
    "predict_ds.FlushCache() \n",
    "levels = compute_overview_levels(predict_ds.GetRasterBand(1)) \n",
    "predict_ds.BuildOverviews('NEAREST', levels) "
   ]
  },
  {
   "cell_type": "code",
   "execution_count": null,
   "metadata": {},
   "outputs": [],
   "source": [
    "# Apply the color table from the SWReGAP landcover raster. \n",
    "gap_ds = gdal.Open(gap_fn) \n",
    "colors = gap_ds.GetRasterBand(1).GetRasterColorTable() \n",
    "predict_ds.GetRasterBand(1).SetRasterColorTable(colors) \n",
    "\n",
    "plt.figure(figsize=(10, 10)) \n",
    "OutTile_array = predict_ds.ReadAsArray() \n",
    "plt.imshow(OutTile_array) \n",
    "plt.colorbar() \n",
    "plt.show() "
   ]
  },
  {
   "cell_type": "markdown",
   "metadata": {},
   "source": [
    "<font color=\"black\" size=4>**Accuracy assessments**</font>"
   ]
  },
  {
   "cell_type": "code",
   "execution_count": null,
   "metadata": {},
   "outputs": [],
   "source": [
    "import csv \n",
    "import os \n",
    "import numpy as np \n",
    "from sklearn import metrics \n",
    "import skll \n",
    "from osgeo import gdal \n",
    "\n",
    "folder = r'D:\\M\\地理大数据与云计算\\实验数据\\lesson7\\lesson7_data\\Utah' \n",
    "accuracy_fn = 'accuracy_data.csv' \n",
    "matrix_fn = 'confusion_matrix.csv' \n",
    "prediction_fn = r'D:\\M\\地理大数据与云计算\\实验数据\\lesson7\\lesson7_data\\Utah\\tree_prediction60.tif' \n",
    "\n",
    "os.chdir(folder) \n",
    "\n",
    "# Collect the data needed for the accuracy assessment. \n",
    "xys = []\n",
    "classes = []\n",
    "with open(accuracy_fn) as fp:\n",
    "    reader = csv.reader(fp)\n",
    "    next(reader)\n",
    "    for row in reader:\n",
    "        xys.append([float(n) for n in row[:2]])\n",
    "        classes.append(int(row[2]))"
   ]
  },
  {
   "cell_type": "code",
   "execution_count": null,
   "metadata": {},
   "outputs": [],
   "source": [
    "ds = gdal.Open(prediction_fn) \n",
    "pixel_trans = gdal.Transformer(ds, None, []) \n",
    "offset, ok = pixel_trans.TransformPoints(True, xys) \n",
    "cols, rows, z = zip(*offset) \n",
    "\n",
    "data = ds.GetRasterBand(1).ReadAsArray() \n",
    "rows=np.array(rows,dtype=np.int32) \n",
    "cols=np.array(cols,dtype=np.int32) \n",
    "sample = data[rows, cols] \n",
    "\n",
    "# Compute kappa. \n",
    "#请在此处输入代码 \n",
    "\n",
    "# Create the confusion matrix. \n",
    "labels = np.unique(np.concatenate((classes, sample))) \n",
    "matrix = metrics.confusion_matrix(classes, sample, labels) \n",
    "\n",
    "# Add labels to the matrix and save it. \n",
    "matrix = np.insert(matrix, 0, labels, 0) \n",
    "matrix = np.insert(matrix, 0, np.insert(labels, 0, 0), 1) \n",
    "np.savetxt(matrix_fn, matrix, fmt='%1.0f', delimiter=',') "
   ]
  },
  {
   "cell_type": "code",
   "execution_count": null,
   "metadata": {},
   "outputs": [],
   "source": [
    "import pandas as pd \n",
    "dataFrame = pd.read_csv(r'D:\\M\\地理大数据与云计算\\实验数据\\lesson7\\lesson7_data\\Utah\\confusion_matrix.csv') \n",
    "dataFrame.head(5)"
   ]
  },
  {
   "cell_type": "code",
   "execution_count": null,
   "metadata": {},
   "outputs": [],
   "source": []
  }
 ],
 "metadata": {
  "kernelspec": {
   "display_name": "Python 3 (ipykernel)",
   "language": "python",
   "name": "python3"
  },
  "language_info": {
   "codemirror_mode": {
    "name": "ipython",
    "version": 3
   },
   "file_extension": ".py",
   "mimetype": "text/x-python",
   "name": "python",
   "nbconvert_exporter": "python",
   "pygments_lexer": "ipython3",
   "version": "3.8.12"
  }
 },
 "nbformat": 4,
 "nbformat_minor": 2
}
