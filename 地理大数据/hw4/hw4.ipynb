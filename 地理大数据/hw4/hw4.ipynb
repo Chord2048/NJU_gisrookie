{
 "cells": [
  {
   "cell_type": "markdown",
   "id": "bfc815e5",
   "metadata": {},
   "source": [
    "# 第四次作业\n",
    "> 191830246 邹子健\n",
    "> 191830246@smail.nju.edu.cn"
   ]
  },
  {
   "cell_type": "code",
   "execution_count": 1,
   "id": "88f8dba6",
   "metadata": {},
   "outputs": [
    {
     "data": {
      "text/plain": [
       "True"
      ]
     },
     "execution_count": 1,
     "metadata": {},
     "output_type": "execute_result"
    }
   ],
   "source": [
    "\n",
    "import geopandas\n",
    "# from shapely.geometry import Point, LineString, Polygon\n",
    "# import geotable\n",
    "import sys\n",
    "'geopandas' in sys.modules\n",
    "\n",
    "# fp ='Lesson4_data/Helsinki.kml'\n",
    "# df = geotable.load(fp)"
   ]
  },
  {
   "cell_type": "code",
   "execution_count": null,
   "id": "cdb38d21",
   "metadata": {},
   "outputs": [],
   "source": []
  }
 ],
 "metadata": {
  "kernelspec": {
   "display_name": "Python 3 (ipykernel)",
   "language": "python",
   "name": "python3"
  },
  "language_info": {
   "codemirror_mode": {
    "name": "ipython",
    "version": 3
   },
   "file_extension": ".py",
   "mimetype": "text/x-python",
   "name": "python",
   "nbconvert_exporter": "python",
   "pygments_lexer": "ipython3",
   "version": "3.8.8"
  }
 },
 "nbformat": 4,
 "nbformat_minor": 5
}
